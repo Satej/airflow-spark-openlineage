{
 "cells": [
  {
   "cell_type": "code",
   "execution_count": null,
   "id": "519c2c86-2a2c-4c85-896a-1aab158f226e",
   "metadata": {},
   "outputs": [],
   "source": [
    "from pyspark.sql import SparkSession\n",
    "import urllib.request\n",
    "import os\n",
    "\n",
    "os.environ[\"PYSPARK_ALLOW_INSECURE_GATEWAY\"] = \"1\"\n",
    "\n",
    "# Download dependencies for BigQuery and GCS\n",
    "gc_jars = ['https://repo1.maven.org/maven2/com/google/cloud/bigdataoss/gcs-connector/hadoop3-2.1.1/gcs-connector-hadoop3-2.1.1-shaded.jar',\n",
    "        'https://repo1.maven.org/maven2/com/google/cloud/bigdataoss/bigquery-connector/hadoop3-1.2.0/bigquery-connector-hadoop3-1.2.0-shaded.jar',\n",
    "        'https://repo1.maven.org/maven2/com/google/cloud/spark/spark-bigquery-with-dependencies_2.12/0.22.2/spark-bigquery-with-dependencies_2.12-0.22.2.jar',\n",
    "        'https://repo1.maven.org/maven2/io/openlineage/openlineage-spark_2.12/1.25.0/openlineage-spark_2.12-1.25.0.jar']\n",
    "\n",
    "files = [urllib.request.urlretrieve(url)[0] for url in gc_jars]\n",
    "\n",
    "# Set these to your own project and bucket\n",
    "project_id = 'YOUR-PROJECT-ID'\n",
    "gcs_bucket = 'YOUR-GCS-BUCKET'\n",
    "credentials_file = '/home/jovyan/notebooks/YOUR-CREDENTIAL-KEY-FILE-FOR-SERVICE-ACCOUNT.json'\n",
    "\n",
    "spark = (SparkSession.builder.master('local').appName('openlineage_spark_test')\n",
    "        .config('spark.jars', \",\".join(files))\n",
    "        \n",
    "        # Install and set up the OpenLineage listener\n",
    "        #.config('spark.jars.packages', 'io.openlineage:openlineage-spark:1.25.0')\n",
    "        .config('spark.extraListeners', 'io.openlineage.spark.agent.OpenLineageSparkListener')\n",
    "        .config('spark.openlineage.transport.url', 'http://marquez-api:5000')\n",
    "        .config('spark.openlineage.transport.type', 'http')\n",
    "        .config('spark.openlineage.namespace', 'spark_integration')\n",
    "        \n",
    "        # Configure the Google credentials and project id\n",
    "        .config('spark.executorEnv.GCS_PROJECT_ID', project_id)\n",
    "        .config('spark.executorEnv.GOOGLE_APPLICATION_CREDENTIALS', '/home/jovyan/notebooks/gcs/bq-spark-demo.json')\n",
    "        .config('spark.hadoop.google.cloud.auth.service.account.enable', 'true')\n",
    "        .config('spark.hadoop.google.cloud.auth.service.account.json.keyfile', credentials_file)\n",
    "        .config('spark.hadoop.fs.gs.impl', 'com.google.cloud.hadoop.fs.gcs.GoogleHadoopFileSystem')\n",
    "        .config('spark.hadoop.fs.AbstractFileSystem.gs.impl', 'com.google.cloud.hadoop.fs.gcs.GoogleHadoopFS')\n",
    "        .config(\"spark.hadoop.fs.gs.project.id\", project_id)\n",
    "        .getOrCreate())"
   ]
  },
  {
   "cell_type": "code",
   "execution_count": 2,
   "id": "170b4dc9-4d0e-41c2-be6b-4d17252fa5f6",
   "metadata": {},
   "outputs": [],
   "source": [
    "from pyspark.sql.functions import expr, col\n",
    "\n",
    "mask_use = spark.read.format('bigquery') \\\n",
    "    .option('parentProject', project_id) \\\n",
    "    .option('table', 'bigquery-public-data:covid19_nyt.mask_use_by_county') \\\n",
    "    .load() \\\n",
    "    .select(expr(\"always + frequently\").alias(\"frequent\"),\n",
    "            expr(\"never + rarely\").alias(\"rare\"),\n",
    "            \"county_fips_code\")\n",
    "\n",
    "opendata = spark.read.format('bigquery') \\\n",
    "    .option('parentProject', project_id) \\\n",
    "    .option('table', 'bigquery-public-data.covid19_open_data.covid19_open_data') \\\n",
    "    .load() \\\n",
    "    .filter(\"country_name == 'United States of America'\") \\\n",
    "    .filter(\"date == '2021-10-31'\") \\\n",
    "    .select(\"location_key\",\n",
    "            expr('cumulative_deceased/(population/100000)').alias('deaths_per_100k'),\n",
    "            expr('cumulative_persons_fully_vaccinated/(population - population_age_00_09)').alias('vaccination_rate'),\n",
    "            col('subregion2_code').alias('county_fips_code'))\n",
    "\n",
    "joined = mask_use.join(opendata, 'county_fips_code')\n",
    "\n",
    "joined.write.mode('overwrite').parquet(f'gs://{gcs_bucket}/demodata/covid_deaths_and_mask_usage/')"
   ]
  },
  {
   "cell_type": "code",
   "execution_count": 3,
   "id": "b61bb5bf-0325-436d-a6d0-c7fcf2e69abd",
   "metadata": {},
   "outputs": [
    {
     "data": {
      "text/plain": [
       "3142"
      ]
     },
     "execution_count": 3,
     "metadata": {},
     "output_type": "execute_result"
    }
   ],
   "source": [
    "spark.read.parquet(f'gs://{gcs_bucket}/demodata/covid_deaths_and_mask_usage/').count()"
   ]
  },
  {
   "cell_type": "code",
   "execution_count": null,
   "id": "b148acc9-b62d-4cb6-88a8-5533d57b87c9",
   "metadata": {},
   "outputs": [],
   "source": []
  }
 ],
 "metadata": {
  "kernelspec": {
   "display_name": "Python 3 (ipykernel)",
   "language": "python",
   "name": "python3"
  },
  "language_info": {
   "codemirror_mode": {
    "name": "ipython",
    "version": 3
   },
   "file_extension": ".py",
   "mimetype": "text/x-python",
   "name": "python",
   "nbconvert_exporter": "python",
   "pygments_lexer": "ipython3",
   "version": "3.11.6"
  }
 },
 "nbformat": 4,
 "nbformat_minor": 5
}
